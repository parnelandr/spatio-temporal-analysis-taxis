{
 "cells": [
  {
   "cell_type": "code",
   "execution_count": 10,
   "metadata": {},
   "outputs": [
    {
     "name": "stdout",
     "output_type": "stream",
     "text": [
      "Miragaia, Cedofeita, Santo Ildefonso, Sé, Miragaia, São Nicolau e Vitória, PRT, Porto, Área Metropolitana do Porto, Norte, Portugal\n",
      "POINT(41.14188,-8.61939807501485)\n"
     ]
    }
   ],
   "source": [
    "from geopy import Nominatim\n",
    "place = [41.141412, -8.618643]\n",
    "location = Nominatim(user_agent='Andrew').reverse(place)\n",
    "print(location.address)\n",
    "print(\"POINT({},{})\".format(location.latitude,location.longitude))"
   ]
  },
  {
   "cell_type": "code",
   "execution_count": null,
   "metadata": {},
   "outputs": [],
   "source": []
  }
 ],
 "metadata": {
  "kernelspec": {
   "display_name": "Python 3",
   "language": "python",
   "name": "python3"
  },
  "language_info": {
   "codemirror_mode": {
    "name": "ipython",
    "version": 3
   },
   "file_extension": ".py",
   "mimetype": "text/x-python",
   "name": "python",
   "nbconvert_exporter": "python",
   "pygments_lexer": "ipython3",
   "version": "3.6.5"
  }
 },
 "nbformat": 4,
 "nbformat_minor": 2
}
