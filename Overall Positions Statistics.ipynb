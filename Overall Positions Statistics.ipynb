{
 "cells": [
  {
   "cell_type": "code",
   "execution_count": 54,
   "metadata": {},
   "outputs": [],
   "source": [
    "import pandas as pd\n",
    "import numpy as np\n",
    "import functools, operator\n",
    "from datetime import timedelta"
   ]
  },
  {
   "cell_type": "code",
   "execution_count": 67,
   "metadata": {},
   "outputs": [],
   "source": [
    "df = pd.read_csv('position_reports.csv')"
   ]
  },
  {
   "cell_type": "code",
   "execution_count": 72,
   "metadata": {},
   "outputs": [],
   "source": [
    "#Parameters\n",
    "entities = df['Taxi_id']\n",
    "datetime = pd.to_datetime(df['Datetime'])\n",
    "latitude = df['Latitude']\n",
    "longitude = df['Longitude']\n",
    "position_type = df['Position_Type']"
   ]
  },
  {
   "cell_type": "code",
   "execution_count": 75,
   "metadata": {},
   "outputs": [],
   "source": [
    "#summary statistics for all positions\n",
    "number_of_positions = df.shape[0]\n",
    "number_unique_entities = entities.nunique()\n",
    "number_position_types = position_type.nunique()\n",
    "date_min = datetime.min()\n",
    "date_max = datetime.max()\n",
    "datetimedeltas_mean = np.array([(x - date_min).total_seconds() for x in datetime]).mean()\n",
    "date_mean = date_min + timedelta(seconds=datetimedeltas_mean)\n",
    "#time_mean = pd.to_timedelta(int((datetime.hour*3600+datetime.minute*60+datetime.second).mean()),unit='s')\n",
    "timespan_days = abs((date_max - date_min).days)\n",
    "positions_per_day = number_of_positions / timespan_days\n",
    "lat_mean = latitude.mean()\n",
    "long_mean = longitude.mean()\n",
    "mean_centre = [long_mean, lat_mean] #long, lat\n",
    "lat_min = latitude.min()\n",
    "long_min = longitude.min()\n",
    "lat_max = latitude.max()\n",
    "long_max = longitude.max()\n",
    "bounding_box = [long_min, lat_min, long_max, lat_max]# left, bottom, right, top"
   ]
  },
  {
   "cell_type": "code",
   "execution_count": 76,
   "metadata": {},
   "outputs": [
    {
     "data": {
      "text/plain": [
       "pandas.core.series.Series"
      ]
     },
     "execution_count": 76,
     "metadata": {},
     "output_type": "execute_result"
    }
   ],
   "source": [
    "#position_dataset class\n",
    "#vessel_class\n",
    "\n",
    "#summary statistics should be attributes or functions on a series\n"
   ]
  },
  {
   "cell_type": "code",
   "execution_count": null,
   "metadata": {},
   "outputs": [],
   "source": []
  }
 ],
 "metadata": {
  "kernelspec": {
   "display_name": "Python 3",
   "language": "python",
   "name": "python3"
  },
  "language_info": {
   "codemirror_mode": {
    "name": "ipython",
    "version": 3
   },
   "file_extension": ".py",
   "mimetype": "text/x-python",
   "name": "python",
   "nbconvert_exporter": "python",
   "pygments_lexer": "ipython3",
   "version": "3.6.5"
  }
 },
 "nbformat": 4,
 "nbformat_minor": 2
}
