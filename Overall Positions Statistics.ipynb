{
 "cells": [
  {
   "cell_type": "code",
   "execution_count": 1,
   "metadata": {},
   "outputs": [],
   "source": [
    "import pandas as pd\n",
    "import numpy as np\n",
    "import functools, operator\n",
    "from datetime import timedelta"
   ]
  },
  {
   "cell_type": "code",
   "execution_count": 2,
   "metadata": {},
   "outputs": [],
   "source": [
    "df = pd.read_csv('position_reports.csv')"
   ]
  },
  {
   "cell_type": "code",
   "execution_count": 29,
   "metadata": {},
   "outputs": [
    {
     "name": "stdout",
     "output_type": "stream",
     "text": [
      "This position set has: 407 entities, 484243 reports, that occurred between 2013-07-01 00:00:53 and 2013-07-03 08:40:13 \n"
     ]
    }
   ],
   "source": [
    "class Position_Set:\n",
    "    ''' Class for a set of position reports. '''\n",
    "    \n",
    "    def __init__(self, df, entity_id_column, datetime_column, longitude_column, latitude_column, position_type_column):\n",
    "        self.entities = df[entity_id_column]\n",
    "        self.datetime = pd.Index(pd.to_datetime(df[datetime_column]))\n",
    "        self.longitude = df[longitude_column]\n",
    "        self.latitude = df[latitude_column]\n",
    "        self.position_type = df[position_type_column]\n",
    "        \n",
    "        self.n_positions = df.shape[0]\n",
    "        self.first_position_date = self.datetime.min()\n",
    "        self.last_position_date = self.datetime.max()\n",
    "        self.lat_min = self.latitude.min()\n",
    "        self.long_min = self.longitude.min()\n",
    "        self.lat_max = self.latitude.max()\n",
    "        self.long_max = self.longitude.max()\n",
    "    \n",
    "    \n",
    "    def n_entities(self):\n",
    "        \n",
    "        return self.entities.nunique()\n",
    "    \n",
    "    def unique_entities(self):\n",
    "        return self.entities.unique()\n",
    "    \n",
    "    def n_position_types(self):\n",
    "        return self.position_type.nunique()\n",
    "    \n",
    "    def unique_position_types(self):\n",
    "        return self.position_type.unique()\n",
    "    \n",
    "    def date_range(self):\n",
    "        return (self.first_position_date, self.last_position_date)\n",
    "    \n",
    "    def timespan_days(self):\n",
    "        return (self.last_position_date - self.first_position_date).days\n",
    "    \n",
    "    def mean_datetime(self):\n",
    "        return self.first_position_date + timedelta(\n",
    "                seconds=np.array([(x - self.first_position_date).total_seconds() for x in self.datetime]).mean())\n",
    "    \n",
    "    def mean_time_during_day(self):\n",
    "        return pd.to_timedelta((self.datetime.hour*3600+self.datetime.minute*60+self.datetime.second).values.mean(),unit='s')\n",
    "    \n",
    "    def n_positions_per_day(self):\n",
    "        return self.n_positions / self.timespan_days()\n",
    "    \n",
    "    def bbox(self):\n",
    "        return (self.long_min, self.lat_min, self.long_max, self.lat_max)\n",
    "    \n",
    "    def mean_centre(self):\n",
    "        return (self.longitude.mean(), self.latitude.mean())\n",
    "    \n",
    "    def __str__(self):\n",
    "        print('This position set has: {} entities, {} reports, that occurred between {} and {} '\n",
    "              .format(self.n_entities(), self.n_positions, self.first_position_date, self.last_position_date))\n",
    "\n",
    "#new_set = Position_Set(df, 'Taxi_id','Datetime','Longitude', 'Latitude', 'Position_Type')#all\n",
    "new_set = Position_Set(df, 'Taxi_id','Datetime','Longitude', 'Latitude', 'Position_Type')\n",
    "new_set.__str__()\n",
    "#df[df['Taxi_id'] == 20000589].shape[0]"
   ]
  },
  {
   "cell_type": "code",
   "execution_count": null,
   "metadata": {},
   "outputs": [],
   "source": []
  }
 ],
 "metadata": {
  "kernelspec": {
   "display_name": "Python 3",
   "language": "python",
   "name": "python3"
  },
  "language_info": {
   "codemirror_mode": {
    "name": "ipython",
    "version": 3
   },
   "file_extension": ".py",
   "mimetype": "text/x-python",
   "name": "python",
   "nbconvert_exporter": "python",
   "pygments_lexer": "ipython3",
   "version": "3.6.5"
  }
 },
 "nbformat": 4,
 "nbformat_minor": 2
}
