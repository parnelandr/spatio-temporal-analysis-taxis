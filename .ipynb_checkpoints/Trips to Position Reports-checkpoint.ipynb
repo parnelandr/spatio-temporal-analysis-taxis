{
 "cells": [
  {
   "cell_type": "code",
   "execution_count": 1,
   "metadata": {},
   "outputs": [],
   "source": [
    "import pandas as pd"
   ]
  },
  {
   "cell_type": "code",
   "execution_count": 2,
   "metadata": {},
   "outputs": [],
   "source": [
    "#import data\n",
    "df = pd.read_csv('train.csv')\n",
    "df['TIMESTAMP'] = pd.to_datetime(df['TIMESTAMP'], unit='s')"
   ]
  },
  {
   "cell_type": "code",
   "execution_count": 3,
   "metadata": {},
   "outputs": [
    {
     "data": {
      "text/plain": [
       "TRIP_ID                                       1372636858620000589\n",
       "CALL_TYPE                                                       C\n",
       "ORIGIN_CALL                                                   NaN\n",
       "ORIGIN_STAND                                                  NaN\n",
       "TAXI_ID                                                  20000589\n",
       "TIMESTAMP                                     2013-07-01 00:00:58\n",
       "DAY_TYPE                                                        A\n",
       "MISSING_DATA                                                False\n",
       "POLYLINE        [[-8.618643,41.141412],[-8.618499,41.141376],[...\n",
       "Name: 0, dtype: object"
      ]
     },
     "execution_count": 3,
     "metadata": {},
     "output_type": "execute_result"
    }
   ],
   "source": [
    "df.iloc[0]"
   ]
  },
  {
   "cell_type": "code",
   "execution_count": 4,
   "metadata": {},
   "outputs": [],
   "source": [
    "df = df[df['MISSING_DATA']==False]"
   ]
  },
  {
   "cell_type": "code",
   "execution_count": 5,
   "metadata": {},
   "outputs": [
    {
     "data": {
      "text/plain": [
       "(1710660, 9)"
      ]
     },
     "execution_count": 5,
     "metadata": {},
     "output_type": "execute_result"
    }
   ],
   "source": [
    "df.shape"
   ]
  },
  {
   "cell_type": "code",
   "execution_count": 11,
   "metadata": {},
   "outputs": [
    {
     "name": "stdout",
     "output_type": "stream",
     "text": [
      "8.380282640457153\n"
     ]
    }
   ],
   "source": [
    "import ast\n",
    "import csv\n",
    "from datetime import datetime, timedelta\n",
    "\n",
    "def convert_trip_to_positions(df_row):\n",
    "    position_time = df_row['TIMESTAMP']\n",
    "    taxi_id = df_row['TAXI_ID']\n",
    "    position_type = ''\n",
    "    positions_in_trip = []\n",
    "    trip_line = ast.literal_eval(df_row['POLYLINE']) \n",
    "    for i in trip_line:\n",
    "        if i == trip_line[0]:\n",
    "            position_type = 'Trip Start'\n",
    "        elif i == trip_line[-1]:\n",
    "            position_type = 'Trip End'\n",
    "        else:\n",
    "            position_type = 'En Route'\n",
    "        positions_in_trip.append([taxi_id, position_time, i[1], i[0], position_type])\n",
    "        position_time = position_time + timedelta(seconds=15)\n",
    "    return positions_in_trip\n",
    "\n",
    "def df_trips_positions(df_trips):\n",
    "    position_reports = []\n",
    "    for index, row in df_trips.iterrows():\n",
    "        position_reports.append(convert_trip_to_positions(row))\n",
    "    return position_reports\n",
    "\n",
    "test_df = df.head(10000)    \n",
    "\n",
    "import time\n",
    "\n",
    "t0 = time.time()\n",
    "positions_in_trips = df_trips_positions(test_df)\n",
    "t1 = time.time()\n",
    "print(t1-t0)\n"
   ]
  },
  {
   "cell_type": "code",
   "execution_count": 13,
   "metadata": {},
   "outputs": [],
   "source": [
    "with open('position_reports.csv', 'w', newline='') as f:\n",
    "    writer = csv.writer(f)\n",
    "    writer.writerow(['Taxi_id', 'Datetime', 'Latitude', 'Longitude', 'Position_Type'])\n",
    "    for trip in positions_in_trips:\n",
    "        for position in trip:\n",
    "            writer.writerow(position)\n",
    "\n",
    "f.close()"
   ]
  },
  {
   "cell_type": "code",
   "execution_count": null,
   "metadata": {},
   "outputs": [],
   "source": []
  }
 ],
 "metadata": {
  "kernelspec": {
   "display_name": "Python 3",
   "language": "python",
   "name": "python3"
  },
  "language_info": {
   "codemirror_mode": {
    "name": "ipython",
    "version": 3
   },
   "file_extension": ".py",
   "mimetype": "text/x-python",
   "name": "python",
   "nbconvert_exporter": "python",
   "pygments_lexer": "ipython3",
   "version": "3.6.5"
  }
 },
 "nbformat": 4,
 "nbformat_minor": 2
}
