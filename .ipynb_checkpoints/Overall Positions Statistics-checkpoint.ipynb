{
 "cells": [
  {
   "cell_type": "code",
   "execution_count": 1,
   "metadata": {},
   "outputs": [],
   "source": [
    "import pandas as pd\n",
    "import numpy as np\n",
    "import functools, operator\n",
    "from datetime import timedelta"
   ]
  },
  {
   "cell_type": "code",
   "execution_count": 2,
   "metadata": {},
   "outputs": [],
   "source": [
    "df = pd.read_csv('position_reports.csv')"
   ]
  },
  {
   "cell_type": "code",
   "execution_count": 9,
   "metadata": {},
   "outputs": [],
   "source": [
    "#Parameters\n",
    "#entities = df['Taxi_id']\n",
    "#datetime = pd.Index(pd.to_datetime(df['Datetime']))\n",
    "#latitude = df['Latitude']\n",
    "#longitude = df['Longitude']\n",
    "#position_type = df['Position_Type']"
   ]
  },
  {
   "cell_type": "code",
   "execution_count": 20,
   "metadata": {},
   "outputs": [],
   "source": [
    "#summary statistics for all positions\n",
    "#number_of_positions = df.shape[0]\n",
    "#number_unique_entities = entities.nunique()\n",
    "#number_position_types = position_type.nunique()\n",
    "#date_min = datetime.min()\n",
    "#date_max = datetime.max()\n",
    "#datetimedeltas_mean = np.array([(x - date_min).total_seconds() for x in datetime]).mean()\n",
    "#date_mean = date_min + timedelta(seconds=datetimedeltas_mean)\n",
    "#time_mean = pd.to_timedelta((datetime.hour*3600+datetime.minute*60+datetime.second).values.mean(),unit='s')\n",
    "#timespan_days = abs((date_max - date_min).days)\n",
    "#positions_per_day = number_of_positions / timespan_days\n",
    "#lat_mean = latitude.mean()\n",
    "#long_mean = longitude.mean()\n",
    "#mean_centre = [long_mean, lat_mean] #long, lat\n",
    "#lat_min = latitude.min()\n",
    "#long_min = longitude.min()\n",
    "#lat_max = latitude.max()\n",
    "#long_max = longitude.max()\n",
    "#bounding_box = [long_min, lat_min, long_max, lat_max]# left, bottom, right, top"
   ]
  },
  {
   "cell_type": "code",
   "execution_count": 71,
   "metadata": {},
   "outputs": [
    {
     "data": {
      "text/plain": [
       "(-8.617251372637291, 41.16005919083393)"
      ]
     },
     "execution_count": 71,
     "metadata": {},
     "output_type": "execute_result"
    }
   ],
   "source": [
    "class Position_Set:\n",
    "    ''' Comments here '''\n",
    "    \n",
    "    def __init__(self, df, entity_id_column, datetime_column, longitude_column, latitude_column, position_type_column):\n",
    "        self.entities = df[entity_id_column]\n",
    "        self.datetime = pd.Index(pd.to_datetime(df[datetime_column]))\n",
    "        self.longitude = df[longitude_column]\n",
    "        self.latitude = df[latitude_column]\n",
    "        self.position_type = df[position_type_column]\n",
    "        \n",
    "        self.n_positions = df.shape[0]\n",
    "        self.first_position_date = self.datetime.min()\n",
    "        self.last_position_date = self.datetime.max()\n",
    "        self.lat_min = self.latitude.min()\n",
    "        self.long_min = self.longitude.min()\n",
    "        self.lat_max = self.latitude.max()\n",
    "        self.long_max = self.longitude.max()\n",
    "    \n",
    "    def n_positions(self):\n",
    "        return self.n_positions\n",
    "    \n",
    "    def n_entities(self):\n",
    "        return self.entities.nunique()\n",
    "    \n",
    "    def unique_entities(self):\n",
    "        return self.entities.unique()\n",
    "    \n",
    "    def n_position_types(self):\n",
    "        return self.position_type.nunique()\n",
    "    \n",
    "    def unique_position_types(self):\n",
    "        return self.position_type.unique()\n",
    "    \n",
    "    def date_range(self):\n",
    "        return (self.first_position_date, self.last_position_date)\n",
    "    \n",
    "    def timespan_days(self):\n",
    "        return (self.last_position_date - self.first_position_date).days\n",
    "    \n",
    "    def mean_datetime(self):\n",
    "        return self.first_position_date + timedelta(\n",
    "                seconds=np.array([(x - self.first_position_date).total_seconds() for x in self.datetime]).mean())\n",
    "    \n",
    "    def mean_time_during_day(self):\n",
    "        return pd.to_timedelta((self.datetime.hour*3600+self.datetime.minute*60+self.datetime.second).values.mean(),unit='s')\n",
    "    \n",
    "    def n_positions_per_day(self):\n",
    "        return self.n_positions / self.timespan_days()\n",
    "    \n",
    "    def bbox(self):\n",
    "        return (self.long_min, self.lat_min, self.long_max, self.lat_max)\n",
    "    \n",
    "    def mean_centre(self):\n",
    "        return (self.longitude.mean(), self.latitude.mean())\n",
    "\n",
    "new_set = Position_Set(df, 'Taxi_id','Datetime','Longitude', 'Latitude', 'Position_Type')\n",
    "\n",
    "new_set.mean_centre()"
   ]
  },
  {
   "cell_type": "code",
   "execution_count": null,
   "metadata": {},
   "outputs": [],
   "source": []
  }
 ],
 "metadata": {
  "kernelspec": {
   "display_name": "Python 3",
   "language": "python",
   "name": "python3"
  },
  "language_info": {
   "codemirror_mode": {
    "name": "ipython",
    "version": 3
   },
   "file_extension": ".py",
   "mimetype": "text/x-python",
   "name": "python",
   "nbconvert_exporter": "python",
   "pygments_lexer": "ipython3",
   "version": "3.6.5"
  }
 },
 "nbformat": 4,
 "nbformat_minor": 2
}
