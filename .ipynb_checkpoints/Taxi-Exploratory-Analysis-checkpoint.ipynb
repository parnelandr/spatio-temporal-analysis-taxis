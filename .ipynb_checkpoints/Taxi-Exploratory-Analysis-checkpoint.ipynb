{
 "cells": [
  {
   "cell_type": "markdown",
   "metadata": {},
   "source": [
    "# Exploratory analysis with Pandas of Taxi dataset\n",
    "Dataset and explanation can be found here: https://www.kaggle.com/crailtap/taxi-trajectory/home\n",
    "1.7million records\n",
    "1 record = 1 Trip\n",
    "Timestamp is for trip start\n",
    "Each position is in 15sec gaps and datetimestamp pairs could be created from trips with full data "
   ]
  },
  {
   "cell_type": "code",
   "execution_count": 2,
   "metadata": {},
   "outputs": [],
   "source": [
    "import pandas as pd\n",
    "import ast"
   ]
  },
  {
   "cell_type": "code",
   "execution_count": 3,
   "metadata": {},
   "outputs": [],
   "source": [
    "#import data\n",
    "df = pd.read_csv('train.csv')"
   ]
  },
  {
   "cell_type": "code",
   "execution_count": 4,
   "metadata": {},
   "outputs": [
    {
     "data": {
      "text/html": [
       "<div>\n",
       "<style scoped>\n",
       "    .dataframe tbody tr th:only-of-type {\n",
       "        vertical-align: middle;\n",
       "    }\n",
       "\n",
       "    .dataframe tbody tr th {\n",
       "        vertical-align: top;\n",
       "    }\n",
       "\n",
       "    .dataframe thead th {\n",
       "        text-align: right;\n",
       "    }\n",
       "</style>\n",
       "<table border=\"1\" class=\"dataframe\">\n",
       "  <thead>\n",
       "    <tr style=\"text-align: right;\">\n",
       "      <th></th>\n",
       "      <th>TRIP_ID</th>\n",
       "      <th>CALL_TYPE</th>\n",
       "      <th>ORIGIN_CALL</th>\n",
       "      <th>ORIGIN_STAND</th>\n",
       "      <th>TAXI_ID</th>\n",
       "      <th>TIMESTAMP</th>\n",
       "      <th>DAY_TYPE</th>\n",
       "      <th>MISSING_DATA</th>\n",
       "      <th>POLYLINE</th>\n",
       "    </tr>\n",
       "  </thead>\n",
       "  <tbody>\n",
       "    <tr>\n",
       "      <th>0</th>\n",
       "      <td>1372636858620000589</td>\n",
       "      <td>C</td>\n",
       "      <td>NaN</td>\n",
       "      <td>NaN</td>\n",
       "      <td>20000589</td>\n",
       "      <td>1372636858</td>\n",
       "      <td>A</td>\n",
       "      <td>False</td>\n",
       "      <td>[[-8.618643,41.141412],[-8.618499,41.141376],[...</td>\n",
       "    </tr>\n",
       "    <tr>\n",
       "      <th>1</th>\n",
       "      <td>1372637303620000596</td>\n",
       "      <td>B</td>\n",
       "      <td>NaN</td>\n",
       "      <td>7.0</td>\n",
       "      <td>20000596</td>\n",
       "      <td>1372637303</td>\n",
       "      <td>A</td>\n",
       "      <td>False</td>\n",
       "      <td>[[-8.639847,41.159826],[-8.640351,41.159871],[...</td>\n",
       "    </tr>\n",
       "    <tr>\n",
       "      <th>2</th>\n",
       "      <td>1372636951620000320</td>\n",
       "      <td>C</td>\n",
       "      <td>NaN</td>\n",
       "      <td>NaN</td>\n",
       "      <td>20000320</td>\n",
       "      <td>1372636951</td>\n",
       "      <td>A</td>\n",
       "      <td>False</td>\n",
       "      <td>[[-8.612964,41.140359],[-8.613378,41.14035],[-...</td>\n",
       "    </tr>\n",
       "    <tr>\n",
       "      <th>3</th>\n",
       "      <td>1372636854620000520</td>\n",
       "      <td>C</td>\n",
       "      <td>NaN</td>\n",
       "      <td>NaN</td>\n",
       "      <td>20000520</td>\n",
       "      <td>1372636854</td>\n",
       "      <td>A</td>\n",
       "      <td>False</td>\n",
       "      <td>[[-8.574678,41.151951],[-8.574705,41.151942],[...</td>\n",
       "    </tr>\n",
       "    <tr>\n",
       "      <th>4</th>\n",
       "      <td>1372637091620000337</td>\n",
       "      <td>C</td>\n",
       "      <td>NaN</td>\n",
       "      <td>NaN</td>\n",
       "      <td>20000337</td>\n",
       "      <td>1372637091</td>\n",
       "      <td>A</td>\n",
       "      <td>False</td>\n",
       "      <td>[[-8.645994,41.18049],[-8.645949,41.180517],[-...</td>\n",
       "    </tr>\n",
       "  </tbody>\n",
       "</table>\n",
       "</div>"
      ],
      "text/plain": [
       "               TRIP_ID CALL_TYPE  ORIGIN_CALL  ORIGIN_STAND   TAXI_ID  \\\n",
       "0  1372636858620000589         C          NaN           NaN  20000589   \n",
       "1  1372637303620000596         B          NaN           7.0  20000596   \n",
       "2  1372636951620000320         C          NaN           NaN  20000320   \n",
       "3  1372636854620000520         C          NaN           NaN  20000520   \n",
       "4  1372637091620000337         C          NaN           NaN  20000337   \n",
       "\n",
       "    TIMESTAMP DAY_TYPE  MISSING_DATA  \\\n",
       "0  1372636858        A         False   \n",
       "1  1372637303        A         False   \n",
       "2  1372636951        A         False   \n",
       "3  1372636854        A         False   \n",
       "4  1372637091        A         False   \n",
       "\n",
       "                                            POLYLINE  \n",
       "0  [[-8.618643,41.141412],[-8.618499,41.141376],[...  \n",
       "1  [[-8.639847,41.159826],[-8.640351,41.159871],[...  \n",
       "2  [[-8.612964,41.140359],[-8.613378,41.14035],[-...  \n",
       "3  [[-8.574678,41.151951],[-8.574705,41.151942],[...  \n",
       "4  [[-8.645994,41.18049],[-8.645949,41.180517],[-...  "
      ]
     },
     "execution_count": 4,
     "metadata": {},
     "output_type": "execute_result"
    }
   ],
   "source": [
    "#first few lines\n",
    "df.head()"
   ]
  },
  {
   "cell_type": "code",
   "execution_count": 6,
   "metadata": {},
   "outputs": [
    {
     "name": "stdout",
     "output_type": "stream",
     "text": [
      "<class 'pandas.core.frame.DataFrame'>\n",
      "RangeIndex: 1710670 entries, 0 to 1710669\n",
      "Data columns (total 9 columns):\n",
      "TRIP_ID         int64\n",
      "CALL_TYPE       object\n",
      "ORIGIN_CALL     float64\n",
      "ORIGIN_STAND    float64\n",
      "TAXI_ID         int64\n",
      "TIMESTAMP       int64\n",
      "DAY_TYPE        object\n",
      "MISSING_DATA    bool\n",
      "POLYLINE        object\n",
      "dtypes: bool(1), float64(2), int64(3), object(3)\n",
      "memory usage: 106.0+ MB\n"
     ]
    }
   ],
   "source": [
    "#dataset info\n",
    "df.info()"
   ]
  },
  {
   "cell_type": "markdown",
   "metadata": {},
   "source": [
    "### Changes to make\n",
    "* ORIGIN_CALL to int\n",
    "* TIMESTAMP to datetime\n",
    "* Remove data that has missing coordinates in POLYLINE based on MISSING_DATA field "
   ]
  },
  {
   "cell_type": "code",
   "execution_count": 7,
   "metadata": {},
   "outputs": [
    {
     "data": {
      "text/plain": [
       "(10, 9)"
      ]
     },
     "execution_count": 7,
     "metadata": {},
     "output_type": "execute_result"
    }
   ],
   "source": [
    "#10 of the 1.7 million records have incomplete GPS\n",
    "df[df['MISSING_DATA']==True].shape "
   ]
  },
  {
   "cell_type": "code",
   "execution_count": 29,
   "metadata": {},
   "outputs": [
    {
     "data": {
      "text/plain": [
       "B    817881\n",
       "C    528019\n",
       "A    364770\n",
       "Name: CALL_TYPE, dtype: int64"
      ]
     },
     "execution_count": 29,
     "metadata": {},
     "output_type": "execute_result"
    }
   ],
   "source": [
    "df['CALL_TYPE'].value_counts() #‘A’ trip dispatched from central; ‘B’ trip taxi driver on a specific stand; ‘C’ otherwise (i.e. a trip demanded on a random street)"
   ]
  },
  {
   "cell_type": "code",
   "execution_count": 30,
   "metadata": {},
   "outputs": [
    {
     "data": {
      "text/plain": [
       "2002.0     57571\n",
       "63882.0     6406\n",
       "2001.0      2499\n",
       "13168.0     1314\n",
       "6728.0      1115\n",
       "5591.0      1051\n",
       "14123.0      990\n",
       "6654.0       909\n",
       "2024.0       800\n",
       "14045.0      769\n",
       "3710.0       648\n",
       "8939.0       559\n",
       "12897.0      556\n",
       "9682.0       534\n",
       "4619.0       526\n",
       "6584.0       516\n",
       "4784.0       433\n",
       "3711.0       413\n",
       "9151.0       410\n",
       "11763.0      409\n",
       "29682.0      394\n",
       "37007.0      386\n",
       "15097.0      381\n",
       "4609.0       365\n",
       "16414.0      362\n",
       "5182.0       355\n",
       "13009.0      340\n",
       "5239.0       339\n",
       "2747.0       323\n",
       "5602.0       314\n",
       "           ...  \n",
       "41611.0        1\n",
       "41610.0        1\n",
       "41607.0        1\n",
       "41603.0        1\n",
       "41601.0        1\n",
       "41600.0        1\n",
       "41598.0        1\n",
       "41597.0        1\n",
       "41593.0        1\n",
       "41591.0        1\n",
       "2599.0         1\n",
       "41629.0        1\n",
       "41630.0        1\n",
       "41632.0        1\n",
       "41652.0        1\n",
       "2604.0         1\n",
       "41663.0        1\n",
       "41662.0        1\n",
       "41657.0        1\n",
       "41656.0        1\n",
       "41653.0        1\n",
       "41650.0        1\n",
       "41633.0        1\n",
       "2603.0         1\n",
       "41644.0        1\n",
       "41640.0        1\n",
       "41639.0        1\n",
       "41637.0        1\n",
       "41634.0        1\n",
       "8192.0         1\n",
       "Name: ORIGIN_CALL, Length: 57105, dtype: int64"
      ]
     },
     "execution_count": 30,
     "metadata": {},
     "output_type": "execute_result"
    }
   ],
   "source": [
    "df['ORIGIN_CALL'].value_counts() #unique IDs of callers caller 2002 had the most trips of 57105 callers"
   ]
  },
  {
   "cell_type": "code",
   "execution_count": 31,
   "metadata": {},
   "outputs": [
    {
     "data": {
      "text/plain": [
       "15.0    80241\n",
       "57.0    50882\n",
       "9.0     34818\n",
       "33.0    34128\n",
       "23.0    33344\n",
       "18.0    32937\n",
       "53.0    31712\n",
       "13.0    25685\n",
       "12.0    25434\n",
       "36.0    24754\n",
       "34.0    20277\n",
       "10.0    18627\n",
       "7.0     18557\n",
       "25.0    18461\n",
       "14.0    18189\n",
       "61.0    17202\n",
       "27.0    17035\n",
       "6.0     16639\n",
       "21.0    16471\n",
       "60.0    16235\n",
       "56.0    14683\n",
       "28.0    14596\n",
       "38.0    13580\n",
       "52.0    13170\n",
       "40.0    12215\n",
       "35.0    12071\n",
       "58.0    11978\n",
       "42.0    11787\n",
       "54.0     9766\n",
       "26.0     8530\n",
       "        ...  \n",
       "30.0     8018\n",
       "32.0     7917\n",
       "37.0     7890\n",
       "51.0     7869\n",
       "16.0     7828\n",
       "11.0     7634\n",
       "24.0     7066\n",
       "47.0     6464\n",
       "55.0     5045\n",
       "17.0     4685\n",
       "19.0     4654\n",
       "1.0      4518\n",
       "3.0      3559\n",
       "31.0     3055\n",
       "59.0     2923\n",
       "50.0     2762\n",
       "22.0     2183\n",
       "62.0     2125\n",
       "45.0     2080\n",
       "29.0     1690\n",
       "39.0     1464\n",
       "46.0     1315\n",
       "44.0     1227\n",
       "2.0      1191\n",
       "4.0      1153\n",
       "41.0      506\n",
       "43.0      493\n",
       "8.0       381\n",
       "5.0        53\n",
       "48.0        7\n",
       "Name: ORIGIN_STAND, Length: 63, dtype: int64"
      ]
     },
     "execution_count": 31,
     "metadata": {},
     "output_type": "execute_result"
    }
   ],
   "source": [
    "df['ORIGIN_STAND'].value_counts() #stand 15 was the most popular of the 63 stands"
   ]
  },
  {
   "cell_type": "code",
   "execution_count": 22,
   "metadata": {},
   "outputs": [
    {
     "data": {
      "text/plain": [
       "448"
      ]
     },
     "execution_count": 22,
     "metadata": {},
     "output_type": "execute_result"
    }
   ],
   "source": [
    "df['TAXI_ID'].nunique() #448 Taxis"
   ]
  },
  {
   "cell_type": "code",
   "execution_count": 26,
   "metadata": {},
   "outputs": [
    {
     "data": {
      "text/plain": [
       "20000080    10746\n",
       "20000403     9238\n",
       "20000066     8449\n",
       "20000364     7821\n",
       "20000483     7729\n",
       "20000129     7609\n",
       "20000307     7498\n",
       "20000621     7276\n",
       "20000089     7267\n",
       "20000424     7176\n",
       "Name: TAXI_ID, dtype: int64"
      ]
     },
     "execution_count": 26,
     "metadata": {},
     "output_type": "execute_result"
    }
   ],
   "source": [
    "df['TAXI_ID'].value_counts().head(10) #Taxi 20000080 had the most trips"
   ]
  },
  {
   "cell_type": "code",
   "execution_count": 32,
   "metadata": {},
   "outputs": [
    {
     "data": {
      "text/plain": [
       "A    1710670\n",
       "Name: DAY_TYPE, dtype: int64"
      ]
     },
     "execution_count": 32,
     "metadata": {},
     "output_type": "execute_result"
    }
   ],
   "source": [
    "df['DAY_TYPE'].value_counts() #all on days that were not holidays"
   ]
  },
  {
   "cell_type": "code",
   "execution_count": 33,
   "metadata": {},
   "outputs": [
    {
     "data": {
      "text/plain": [
       "False    1710660\n",
       "True          10\n",
       "Name: MISSING_DATA, dtype: int64"
      ]
     },
     "execution_count": 33,
     "metadata": {},
     "output_type": "execute_result"
    }
   ],
   "source": [
    "df['MISSING_DATA'].value_counts()"
   ]
  },
  {
   "cell_type": "code",
   "execution_count": 42,
   "metadata": {},
   "outputs": [
    {
     "data": {
      "text/plain": [
       "'[[-8.618643,41.141412],[-8.618499,41.141376],[-8.620326,41.14251],[-8.622153,41.143815],[-8.623953,41.144373],[-8.62668,41.144778],[-8.627373,41.144697],[-8.630226,41.14521],[-8.632746,41.14692],[-8.631738,41.148225],[-8.629938,41.150385],[-8.62911,41.151213],[-8.629128,41.15124],[-8.628786,41.152203],[-8.628687,41.152374],[-8.628759,41.152518],[-8.630838,41.15268],[-8.632323,41.153022],[-8.631144,41.154489],[-8.630829,41.154507],[-8.630829,41.154516],[-8.630829,41.154498],[-8.630838,41.154489]]'"
      ]
     },
     "execution_count": 42,
     "metadata": {},
     "output_type": "execute_result"
    }
   ],
   "source": [
    "df.loc[0,'POLYLINE'] #display the coordinates as a string"
   ]
  },
  {
   "cell_type": "code",
   "execution_count": 47,
   "metadata": {},
   "outputs": [
    {
     "data": {
      "text/plain": [
       "23"
      ]
     },
     "execution_count": 47,
     "metadata": {},
     "output_type": "execute_result"
    }
   ],
   "source": [
    "len(ast.literal_eval(df.loc[0,'POLYLINE'])) #length of the list containing coordinates"
   ]
  },
  {
   "cell_type": "code",
   "execution_count": 48,
   "metadata": {},
   "outputs": [
    {
     "data": {
      "text/plain": [
       "330"
      ]
     },
     "execution_count": 48,
     "metadata": {},
     "output_type": "execute_result"
    }
   ],
   "source": [
    "(len(ast.literal_eval(df.loc[0,'POLYLINE']))-1)*15 #length in seconds for a complete trip"
   ]
  },
  {
   "cell_type": "code",
   "execution_count": 49,
   "metadata": {},
   "outputs": [
    {
     "data": {
      "text/plain": [
       "0           23\n",
       "1           19\n",
       "2           65\n",
       "3           43\n",
       "4           29\n",
       "5           26\n",
       "6           36\n",
       "7           34\n",
       "8           38\n",
       "9           19\n",
       "10          22\n",
       "11          44\n",
       "12          32\n",
       "13          34\n",
       "14          28\n",
       "15          64\n",
       "16          65\n",
       "17          19\n",
       "18          17\n",
       "19           9\n",
       "20          15\n",
       "21          43\n",
       "22          35\n",
       "23          20\n",
       "24          26\n",
       "25           8\n",
       "26          57\n",
       "27          29\n",
       "28          18\n",
       "29          11\n",
       "          ... \n",
       "1710640     30\n",
       "1710641    135\n",
       "1710642     51\n",
       "1710643      0\n",
       "1710644     31\n",
       "1710645    131\n",
       "1710646     30\n",
       "1710647     36\n",
       "1710648      4\n",
       "1710649     29\n",
       "1710650     34\n",
       "1710651     42\n",
       "1710652     88\n",
       "1710653     13\n",
       "1710654     40\n",
       "1710655    114\n",
       "1710656     17\n",
       "1710657      1\n",
       "1710658      0\n",
       "1710659     54\n",
       "1710660      1\n",
       "1710661     33\n",
       "1710662     71\n",
       "1710663    194\n",
       "1710664      0\n",
       "1710665     32\n",
       "1710666     30\n",
       "1710667      0\n",
       "1710668     62\n",
       "1710669     27\n",
       "Name: POLYLINE, Length: 1710670, dtype: int64"
      ]
     },
     "execution_count": 49,
     "metadata": {},
     "output_type": "execute_result"
    }
   ],
   "source": [
    "df['POLYLINE'].apply(lambda x: len(ast.literal_eval(x))).value_counts() #took maybe 10mins. Not what I wanted."
   ]
  },
  {
   "cell_type": "code",
   "execution_count": 51,
   "metadata": {},
   "outputs": [
    {
     "data": {
      "text/plain": [
       "35    33051\n",
       "33    32822\n",
       "34    32779\n",
       "32    32635\n",
       "31    32498\n",
       "Name: POLYLINE, dtype: int64"
      ]
     },
     "execution_count": 51,
     "metadata": {},
     "output_type": "execute_result"
    }
   ],
   "source": [
    "df['POLYLINE'].apply(lambda x: (len(ast.literal_eval(x)))).value_counts().head() #incorrect longest trips in counts of coordinate pairs "
   ]
  },
  {
   "cell_type": "code",
   "execution_count": 54,
   "metadata": {},
   "outputs": [
    {
     "data": {
      "text/plain": [
       "41"
      ]
     },
     "execution_count": 54,
     "metadata": {},
     "output_type": "execute_result"
    }
   ],
   "source": [
    "len(ast.literal_eval(df.loc[35,'POLYLINE'])) #length of the list containing coordinates proves above wrong"
   ]
  },
  {
   "cell_type": "code",
   "execution_count": 63,
   "metadata": {},
   "outputs": [
    {
     "data": {
      "text/plain": [
       "35    33051\n",
       "33    32822\n",
       "34    32779\n",
       "32    32635\n",
       "31    32498\n",
       "Name: POLYLINE, dtype: int64"
      ]
     },
     "execution_count": 63,
     "metadata": {},
     "output_type": "execute_result"
    }
   ],
   "source": [
    "df['POLYLINE'].apply(lambda x: len(ast.literal_eval(x))).value_counts().head()"
   ]
  },
  {
   "cell_type": "code",
   "execution_count": null,
   "metadata": {},
   "outputs": [],
   "source": []
  }
 ],
 "metadata": {
  "kernelspec": {
   "display_name": "Python 3",
   "language": "python",
   "name": "python3"
  },
  "language_info": {
   "codemirror_mode": {
    "name": "ipython",
    "version": 3
   },
   "file_extension": ".py",
   "mimetype": "text/x-python",
   "name": "python",
   "nbconvert_exporter": "python",
   "pygments_lexer": "ipython3",
   "version": "3.6.5"
  }
 },
 "nbformat": 4,
 "nbformat_minor": 2
}
